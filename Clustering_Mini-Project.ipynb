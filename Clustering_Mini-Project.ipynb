{
  "cells": [
    {
      "cell_type": "markdown",
      "metadata": {
        "id": "view-in-github",
        "colab_type": "text"
      },
      "source": [
        "<a href=\"https://colab.research.google.com/github/baher2000/Baher/blob/main/Clustering_Mini-Project.ipynb\" target=\"_parent\"><img src=\"https://colab.research.google.com/assets/colab-badge.svg\" alt=\"Open In Colab\"/></a>"
      ]
    },
    {
      "cell_type": "markdown",
      "metadata": {
        "id": "2qlrrukpMFoF"
      },
      "source": [
        "# Clustering - Mini-Project 3"
      ]
    },
    {
      "cell_type": "markdown",
      "metadata": {
        "id": "aFKknqf_MFoM"
      },
      "source": [
        "***Edit this cell with your name(s), tutorial number(s) and ID(s)***\n",
        "\n",
        "---\n",
        "\n",
        "Name: Mohamed Gabr\n",
        "\n",
        "ID: 49-17783\n",
        "\n",
        "Tutorial: 8\n",
        "\n",
        "---\n",
        "\n",
        "Name: Baher El Shenawy\n",
        "\n",
        "ID: 49-10595\n",
        "\n",
        "Tutorial: 8\n",
        "\n",
        "---\n",
        "\n",
        "Name:\n",
        "\n",
        "ID:\n",
        "\n",
        "Tutorial:\n",
        "\n",
        "---\n"
      ]
    },
    {
      "cell_type": "markdown",
      "metadata": {
        "id": "tkRiUWVgMFoO"
      },
      "source": [
        "## Dataset Description\n",
        "\n",
        "The dataset file contains almost ~3000 different music genres aggregated from more than 170.000 songs collected from Spotify Web API.\n",
        "\n",
        "Primary:\n",
        "\n",
        "- genre (Music genre)\n",
        "\n",
        "Numerical:\n",
        "\n",
        "- acousticness (Ranges from 0 to 1)\n",
        "- danceability (Ranges from 0 to 1)\n",
        "- energy (Ranges from 0 to 1)\n",
        "- duration_ms (Integer typically ranging from 200k to 300k)\n",
        "- instrumentalness (Ranges from 0 to 1)\n",
        "- valence (Ranges from 0 to 1)\n",
        "- popularity (Ranges from 0 to 100)\n",
        "- tempo (Float typically ranging from 50 to 150)\n",
        "- liveness (Ranges from 0 to 1)\n",
        "- loudness (Float typically ranging from -60 to 0 in decibels (dB))\n",
        "- speechiness (Ranges from 0 to 1)\n",
        "- year (Ranges from 1921 to 2020)\n",
        "\n",
        "\n",
        "Categorical:\n",
        "\n",
        "- key (All keys on octave encoded as values ranging from 0 to 11, starting on C as 0, C# as 1 and so on…)\n",
        "\n",
        "\n",
        "**Recommended Reading for Data Understanding**: Spotify's documentation of audio features: https://developer.spotify.com/documentation/web-api/reference/tracks/get-audio-features/\n",
        "\n",
        "**Acknowledgment**: This dataset was created and published by Yamaç Eren Ay on Kaggle."
      ]
    },
    {
      "cell_type": "code",
      "execution_count": null,
      "metadata": {
        "id": "MkLEMG14MJqc"
      },
      "outputs": [],
      "source": [
        "import pandas as pd\n",
        "import numpy as np\n",
        "import matplotlib.pyplot as plt\n",
        "import seaborn as sns\n",
        "from collections import Counter\n",
        "\n",
        "%matplotlib inline\n",
        "plt.style.use('fivethirtyeight')\n",
        "sns.set_style('whitegrid')"
      ]
    },
    {
      "cell_type": "code",
      "execution_count": null,
      "metadata": {
        "colab": {
          "base_uri": "https://localhost:8080/",
          "height": 424
        },
        "id": "iPb8IgjoMLXT",
        "outputId": "e9d346fc-c585-475f-b1b6-a87666c1f4f1"
      },
      "outputs": [
        {
          "output_type": "execute_result",
          "data": {
            "text/plain": [
              "      mode                  genres  acousticness  danceability   duration_ms  \\\n",
              "0        1  21st century classical      0.979333      0.162883  1.602977e+05   \n",
              "1        1                   432hz      0.494780      0.299333  1.048887e+06   \n",
              "2        1                   8-bit      0.762000      0.712000  1.151770e+05   \n",
              "3        1                      []      0.651417      0.529093  2.328809e+05   \n",
              "4        1              a cappella      0.676557      0.538961  1.906285e+05   \n",
              "...    ...                     ...           ...           ...           ...   \n",
              "2968     1                    zolo      0.222625      0.547082  2.580991e+05   \n",
              "2969     0                 zouglou      0.161000      0.863000  2.063200e+05   \n",
              "2970     1                    zouk      0.263261      0.748889  3.060728e+05   \n",
              "2971     0            zurich indie      0.993000      0.705667  1.984173e+05   \n",
              "2972     1                  zydeco      0.421038      0.629409  1.716717e+05   \n",
              "\n",
              "        energy  instrumentalness  liveness   loudness  speechiness  \\\n",
              "0     0.071317          0.606834  0.361600 -31.514333     0.040567   \n",
              "1     0.450678          0.477762  0.131000 -16.854000     0.076817   \n",
              "2     0.818000          0.876000  0.126000  -9.180000     0.047000   \n",
              "3     0.419146          0.205309  0.218696 -12.288965     0.107872   \n",
              "4     0.316434          0.003003  0.172254 -12.479387     0.082851   \n",
              "...        ...               ...       ...        ...          ...   \n",
              "2968  0.610240          0.143872  0.204206 -11.295878     0.061088   \n",
              "2969  0.909000          0.000000  0.108000  -5.985000     0.081300   \n",
              "2970  0.622444          0.257227  0.089678 -10.289222     0.038778   \n",
              "2971  0.172667          0.468633  0.179667 -11.453333     0.348667   \n",
              "2972  0.609369          0.019248  0.255877  -9.854825     0.050491   \n",
              "\n",
              "           tempo   valence  popularity  key  \n",
              "0      75.336500  0.103783   27.833333    6  \n",
              "1     120.285667  0.221750   52.500000    5  \n",
              "2     133.444000  0.975000   48.000000    7  \n",
              "3     112.857352  0.513604   20.859882    7  \n",
              "4     112.110362  0.448249   45.820071    7  \n",
              "...          ...       ...         ...  ...  \n",
              "2968  125.494919  0.596155   33.778943    9  \n",
              "2969  119.038000  0.845000   58.000000    7  \n",
              "2970  101.965222  0.824111   46.666667    5  \n",
              "2971   91.278000  0.739000    0.000000    7  \n",
              "2972  126.366087  0.808544   30.261905    7  \n",
              "\n",
              "[2973 rows x 14 columns]"
            ],
            "text/html": [
              "\n",
              "  <div id=\"df-c4e56636-b6ef-489c-9a02-0eb318390e34\">\n",
              "    <div class=\"colab-df-container\">\n",
              "      <div>\n",
              "<style scoped>\n",
              "    .dataframe tbody tr th:only-of-type {\n",
              "        vertical-align: middle;\n",
              "    }\n",
              "\n",
              "    .dataframe tbody tr th {\n",
              "        vertical-align: top;\n",
              "    }\n",
              "\n",
              "    .dataframe thead th {\n",
              "        text-align: right;\n",
              "    }\n",
              "</style>\n",
              "<table border=\"1\" class=\"dataframe\">\n",
              "  <thead>\n",
              "    <tr style=\"text-align: right;\">\n",
              "      <th></th>\n",
              "      <th>mode</th>\n",
              "      <th>genres</th>\n",
              "      <th>acousticness</th>\n",
              "      <th>danceability</th>\n",
              "      <th>duration_ms</th>\n",
              "      <th>energy</th>\n",
              "      <th>instrumentalness</th>\n",
              "      <th>liveness</th>\n",
              "      <th>loudness</th>\n",
              "      <th>speechiness</th>\n",
              "      <th>tempo</th>\n",
              "      <th>valence</th>\n",
              "      <th>popularity</th>\n",
              "      <th>key</th>\n",
              "    </tr>\n",
              "  </thead>\n",
              "  <tbody>\n",
              "    <tr>\n",
              "      <th>0</th>\n",
              "      <td>1</td>\n",
              "      <td>21st century classical</td>\n",
              "      <td>0.979333</td>\n",
              "      <td>0.162883</td>\n",
              "      <td>1.602977e+05</td>\n",
              "      <td>0.071317</td>\n",
              "      <td>0.606834</td>\n",
              "      <td>0.361600</td>\n",
              "      <td>-31.514333</td>\n",
              "      <td>0.040567</td>\n",
              "      <td>75.336500</td>\n",
              "      <td>0.103783</td>\n",
              "      <td>27.833333</td>\n",
              "      <td>6</td>\n",
              "    </tr>\n",
              "    <tr>\n",
              "      <th>1</th>\n",
              "      <td>1</td>\n",
              "      <td>432hz</td>\n",
              "      <td>0.494780</td>\n",
              "      <td>0.299333</td>\n",
              "      <td>1.048887e+06</td>\n",
              "      <td>0.450678</td>\n",
              "      <td>0.477762</td>\n",
              "      <td>0.131000</td>\n",
              "      <td>-16.854000</td>\n",
              "      <td>0.076817</td>\n",
              "      <td>120.285667</td>\n",
              "      <td>0.221750</td>\n",
              "      <td>52.500000</td>\n",
              "      <td>5</td>\n",
              "    </tr>\n",
              "    <tr>\n",
              "      <th>2</th>\n",
              "      <td>1</td>\n",
              "      <td>8-bit</td>\n",
              "      <td>0.762000</td>\n",
              "      <td>0.712000</td>\n",
              "      <td>1.151770e+05</td>\n",
              "      <td>0.818000</td>\n",
              "      <td>0.876000</td>\n",
              "      <td>0.126000</td>\n",
              "      <td>-9.180000</td>\n",
              "      <td>0.047000</td>\n",
              "      <td>133.444000</td>\n",
              "      <td>0.975000</td>\n",
              "      <td>48.000000</td>\n",
              "      <td>7</td>\n",
              "    </tr>\n",
              "    <tr>\n",
              "      <th>3</th>\n",
              "      <td>1</td>\n",
              "      <td>[]</td>\n",
              "      <td>0.651417</td>\n",
              "      <td>0.529093</td>\n",
              "      <td>2.328809e+05</td>\n",
              "      <td>0.419146</td>\n",
              "      <td>0.205309</td>\n",
              "      <td>0.218696</td>\n",
              "      <td>-12.288965</td>\n",
              "      <td>0.107872</td>\n",
              "      <td>112.857352</td>\n",
              "      <td>0.513604</td>\n",
              "      <td>20.859882</td>\n",
              "      <td>7</td>\n",
              "    </tr>\n",
              "    <tr>\n",
              "      <th>4</th>\n",
              "      <td>1</td>\n",
              "      <td>a cappella</td>\n",
              "      <td>0.676557</td>\n",
              "      <td>0.538961</td>\n",
              "      <td>1.906285e+05</td>\n",
              "      <td>0.316434</td>\n",
              "      <td>0.003003</td>\n",
              "      <td>0.172254</td>\n",
              "      <td>-12.479387</td>\n",
              "      <td>0.082851</td>\n",
              "      <td>112.110362</td>\n",
              "      <td>0.448249</td>\n",
              "      <td>45.820071</td>\n",
              "      <td>7</td>\n",
              "    </tr>\n",
              "    <tr>\n",
              "      <th>...</th>\n",
              "      <td>...</td>\n",
              "      <td>...</td>\n",
              "      <td>...</td>\n",
              "      <td>...</td>\n",
              "      <td>...</td>\n",
              "      <td>...</td>\n",
              "      <td>...</td>\n",
              "      <td>...</td>\n",
              "      <td>...</td>\n",
              "      <td>...</td>\n",
              "      <td>...</td>\n",
              "      <td>...</td>\n",
              "      <td>...</td>\n",
              "      <td>...</td>\n",
              "    </tr>\n",
              "    <tr>\n",
              "      <th>2968</th>\n",
              "      <td>1</td>\n",
              "      <td>zolo</td>\n",
              "      <td>0.222625</td>\n",
              "      <td>0.547082</td>\n",
              "      <td>2.580991e+05</td>\n",
              "      <td>0.610240</td>\n",
              "      <td>0.143872</td>\n",
              "      <td>0.204206</td>\n",
              "      <td>-11.295878</td>\n",
              "      <td>0.061088</td>\n",
              "      <td>125.494919</td>\n",
              "      <td>0.596155</td>\n",
              "      <td>33.778943</td>\n",
              "      <td>9</td>\n",
              "    </tr>\n",
              "    <tr>\n",
              "      <th>2969</th>\n",
              "      <td>0</td>\n",
              "      <td>zouglou</td>\n",
              "      <td>0.161000</td>\n",
              "      <td>0.863000</td>\n",
              "      <td>2.063200e+05</td>\n",
              "      <td>0.909000</td>\n",
              "      <td>0.000000</td>\n",
              "      <td>0.108000</td>\n",
              "      <td>-5.985000</td>\n",
              "      <td>0.081300</td>\n",
              "      <td>119.038000</td>\n",
              "      <td>0.845000</td>\n",
              "      <td>58.000000</td>\n",
              "      <td>7</td>\n",
              "    </tr>\n",
              "    <tr>\n",
              "      <th>2970</th>\n",
              "      <td>1</td>\n",
              "      <td>zouk</td>\n",
              "      <td>0.263261</td>\n",
              "      <td>0.748889</td>\n",
              "      <td>3.060728e+05</td>\n",
              "      <td>0.622444</td>\n",
              "      <td>0.257227</td>\n",
              "      <td>0.089678</td>\n",
              "      <td>-10.289222</td>\n",
              "      <td>0.038778</td>\n",
              "      <td>101.965222</td>\n",
              "      <td>0.824111</td>\n",
              "      <td>46.666667</td>\n",
              "      <td>5</td>\n",
              "    </tr>\n",
              "    <tr>\n",
              "      <th>2971</th>\n",
              "      <td>0</td>\n",
              "      <td>zurich indie</td>\n",
              "      <td>0.993000</td>\n",
              "      <td>0.705667</td>\n",
              "      <td>1.984173e+05</td>\n",
              "      <td>0.172667</td>\n",
              "      <td>0.468633</td>\n",
              "      <td>0.179667</td>\n",
              "      <td>-11.453333</td>\n",
              "      <td>0.348667</td>\n",
              "      <td>91.278000</td>\n",
              "      <td>0.739000</td>\n",
              "      <td>0.000000</td>\n",
              "      <td>7</td>\n",
              "    </tr>\n",
              "    <tr>\n",
              "      <th>2972</th>\n",
              "      <td>1</td>\n",
              "      <td>zydeco</td>\n",
              "      <td>0.421038</td>\n",
              "      <td>0.629409</td>\n",
              "      <td>1.716717e+05</td>\n",
              "      <td>0.609369</td>\n",
              "      <td>0.019248</td>\n",
              "      <td>0.255877</td>\n",
              "      <td>-9.854825</td>\n",
              "      <td>0.050491</td>\n",
              "      <td>126.366087</td>\n",
              "      <td>0.808544</td>\n",
              "      <td>30.261905</td>\n",
              "      <td>7</td>\n",
              "    </tr>\n",
              "  </tbody>\n",
              "</table>\n",
              "<p>2973 rows × 14 columns</p>\n",
              "</div>\n",
              "      <button class=\"colab-df-convert\" onclick=\"convertToInteractive('df-c4e56636-b6ef-489c-9a02-0eb318390e34')\"\n",
              "              title=\"Convert this dataframe to an interactive table.\"\n",
              "              style=\"display:none;\">\n",
              "        \n",
              "  <svg xmlns=\"http://www.w3.org/2000/svg\" height=\"24px\"viewBox=\"0 0 24 24\"\n",
              "       width=\"24px\">\n",
              "    <path d=\"M0 0h24v24H0V0z\" fill=\"none\"/>\n",
              "    <path d=\"M18.56 5.44l.94 2.06.94-2.06 2.06-.94-2.06-.94-.94-2.06-.94 2.06-2.06.94zm-11 1L8.5 8.5l.94-2.06 2.06-.94-2.06-.94L8.5 2.5l-.94 2.06-2.06.94zm10 10l.94 2.06.94-2.06 2.06-.94-2.06-.94-.94-2.06-.94 2.06-2.06.94z\"/><path d=\"M17.41 7.96l-1.37-1.37c-.4-.4-.92-.59-1.43-.59-.52 0-1.04.2-1.43.59L10.3 9.45l-7.72 7.72c-.78.78-.78 2.05 0 2.83L4 21.41c.39.39.9.59 1.41.59.51 0 1.02-.2 1.41-.59l7.78-7.78 2.81-2.81c.8-.78.8-2.07 0-2.86zM5.41 20L4 18.59l7.72-7.72 1.47 1.35L5.41 20z\"/>\n",
              "  </svg>\n",
              "      </button>\n",
              "      \n",
              "  <style>\n",
              "    .colab-df-container {\n",
              "      display:flex;\n",
              "      flex-wrap:wrap;\n",
              "      gap: 12px;\n",
              "    }\n",
              "\n",
              "    .colab-df-convert {\n",
              "      background-color: #E8F0FE;\n",
              "      border: none;\n",
              "      border-radius: 50%;\n",
              "      cursor: pointer;\n",
              "      display: none;\n",
              "      fill: #1967D2;\n",
              "      height: 32px;\n",
              "      padding: 0 0 0 0;\n",
              "      width: 32px;\n",
              "    }\n",
              "\n",
              "    .colab-df-convert:hover {\n",
              "      background-color: #E2EBFA;\n",
              "      box-shadow: 0px 1px 2px rgba(60, 64, 67, 0.3), 0px 1px 3px 1px rgba(60, 64, 67, 0.15);\n",
              "      fill: #174EA6;\n",
              "    }\n",
              "\n",
              "    [theme=dark] .colab-df-convert {\n",
              "      background-color: #3B4455;\n",
              "      fill: #D2E3FC;\n",
              "    }\n",
              "\n",
              "    [theme=dark] .colab-df-convert:hover {\n",
              "      background-color: #434B5C;\n",
              "      box-shadow: 0px 1px 3px 1px rgba(0, 0, 0, 0.15);\n",
              "      filter: drop-shadow(0px 1px 2px rgba(0, 0, 0, 0.3));\n",
              "      fill: #FFFFFF;\n",
              "    }\n",
              "  </style>\n",
              "\n",
              "      <script>\n",
              "        const buttonEl =\n",
              "          document.querySelector('#df-c4e56636-b6ef-489c-9a02-0eb318390e34 button.colab-df-convert');\n",
              "        buttonEl.style.display =\n",
              "          google.colab.kernel.accessAllowed ? 'block' : 'none';\n",
              "\n",
              "        async function convertToInteractive(key) {\n",
              "          const element = document.querySelector('#df-c4e56636-b6ef-489c-9a02-0eb318390e34');\n",
              "          const dataTable =\n",
              "            await google.colab.kernel.invokeFunction('convertToInteractive',\n",
              "                                                     [key], {});\n",
              "          if (!dataTable) return;\n",
              "\n",
              "          const docLinkHtml = 'Like what you see? Visit the ' +\n",
              "            '<a target=\"_blank\" href=https://colab.research.google.com/notebooks/data_table.ipynb>data table notebook</a>'\n",
              "            + ' to learn more about interactive tables.';\n",
              "          element.innerHTML = '';\n",
              "          dataTable['output_type'] = 'display_data';\n",
              "          await google.colab.output.renderOutput(dataTable, element);\n",
              "          const docLink = document.createElement('div');\n",
              "          docLink.innerHTML = docLinkHtml;\n",
              "          element.appendChild(docLink);\n",
              "        }\n",
              "      </script>\n",
              "    </div>\n",
              "  </div>\n",
              "  "
            ]
          },
          "metadata": {},
          "execution_count": 2
        }
      ],
      "source": [
        "df = pd.read_csv('https://raw.githubusercontent.com/GUC-DM/W2022/main/data/music_genres.csv')\n",
        "df"
      ]
    },
    {
      "cell_type": "markdown",
      "source": [
        "# **Data inspection** / **Cleaning**\n",
        "\n"
      ],
      "metadata": {
        "id": "091J1O_Q07z2"
      }
    },
    {
      "cell_type": "markdown",
      "source": [
        "to know information about the DataFrame and the data type of each attribute"
      ],
      "metadata": {
        "id": "th0rmkbAR_sE"
      }
    },
    {
      "cell_type": "code",
      "source": [
        "df.info()"
      ],
      "metadata": {
        "id": "A3yEsLF_1PRO"
      },
      "execution_count": null,
      "outputs": []
    },
    {
      "cell_type": "markdown",
      "source": [
        "to know the description of the data in the DataFrame\n"
      ],
      "metadata": {
        "id": "rDD4GHVqSHyL"
      }
    },
    {
      "cell_type": "code",
      "source": [
        "df.describe()"
      ],
      "metadata": {
        "id": "LKWC9t-x1SaK"
      },
      "execution_count": null,
      "outputs": []
    },
    {
      "cell_type": "code",
      "source": [
        "df.isnull().sum() / df.count() * 100"
      ],
      "metadata": {
        "id": "GaVvPhny3-5W"
      },
      "execution_count": null,
      "outputs": []
    },
    {
      "cell_type": "markdown",
      "source": [
        "drop the rows that contain \"[]\" in genres column"
      ],
      "metadata": {
        "id": "rIueQt13SSw1"
      }
    },
    {
      "cell_type": "code",
      "source": [
        "df = df.drop(df.index[df['genres'] == \"[]\"])  \n",
        "df"
      ],
      "metadata": {
        "id": "XfNXmKoS06np"
      },
      "execution_count": null,
      "outputs": []
    },
    {
      "cell_type": "markdown",
      "source": [
        "to check that all rows that contain \"[]\" in genres column are deleted"
      ],
      "metadata": {
        "id": "gHHgcvAhS0N_"
      }
    },
    {
      "cell_type": "code",
      "source": [
        "# Convert entire data frame as string and print\n",
        "print(df.to_string())"
      ],
      "metadata": {
        "id": "FU_WxmLt_56X"
      },
      "execution_count": null,
      "outputs": []
    },
    {
      "cell_type": "markdown",
      "source": [
        "# **Q1: What are the 5 most popular music genres?**"
      ],
      "metadata": {
        "id": "Q3UQ-XK40o9C"
      }
    },
    {
      "cell_type": "code",
      "source": [
        "sns.barplot(data = df.nlargest(5, 'popularity'), x = 'genres' , y = 'popularity').set(title='Genres and Popularity')\n",
        "\n",
        "plt.xticks(rotation = 90)"
      ],
      "metadata": {
        "id": "AMUScVUaD3ca"
      },
      "execution_count": null,
      "outputs": []
    },
    {
      "cell_type": "markdown",
      "source": [
        "# **Answer**\n",
        "**basshall** , **south african house**, **trap venezolano**, **turkish edm**, and **alberta hip hop** are the most popular music genres as the barplot show us"
      ],
      "metadata": {
        "id": "76z6Tgu9Gc77"
      }
    },
    {
      "cell_type": "markdown",
      "source": [
        "# **Q2: What factors affect the Popularity of the song ? (Mention the biggest 2 factors, with interpretation)**"
      ],
      "metadata": {
        "id": "uBUp0hLvHPUB"
      }
    },
    {
      "cell_type": "code",
      "source": [
        "plt.figure(figsize=(13,13))\n",
        "\n",
        "corr = df.corr()\n",
        "corr\n",
        "\n",
        "sns.heatmap(corr, cmap='crest', annot=True)\n"
      ],
      "metadata": {
        "id": "8nalzHDMHYu4"
      },
      "execution_count": null,
      "outputs": []
    },
    {
      "cell_type": "markdown",
      "source": [
        "# **Answer:**\n",
        "**Energy** and **loudness** have the highest positive correlation value which equal to **0.34**. Additionally, **acousticness** has the highest negative correlation value which equal to **-0.46**"
      ],
      "metadata": {
        "id": "9AS97VnBTgZC"
      }
    },
    {
      "cell_type": "markdown",
      "source": [
        "# **Q3: Which genre has the highest energy and which has the lowest?**"
      ],
      "metadata": {
        "id": "U6YrPTbEJMLd"
      }
    },
    {
      "cell_type": "code",
      "source": [
        "sns.barplot(data = df.nlargest(5, 'energy'), x = 'genres' , y = 'energy')\n",
        "plt.xticks(rotation = 90)"
      ],
      "metadata": {
        "id": "0gUbHoNTJGQH"
      },
      "execution_count": null,
      "outputs": []
    },
    {
      "cell_type": "markdown",
      "source": [
        "# **Answer:** \n",
        "**Australian ska** is the genres that has the highest energy as we see on the barplot"
      ],
      "metadata": {
        "id": "v3YRYA4IJtP-"
      }
    },
    {
      "cell_type": "code",
      "source": [
        "sns.barplot(data = df.nsmallest(5, 'energy'), x = 'genres' , y = 'energy')\n",
        "plt.xticks(rotation = 90)"
      ],
      "metadata": {
        "id": "x6_IUP0QJbAd"
      },
      "execution_count": null,
      "outputs": []
    },
    {
      "cell_type": "markdown",
      "source": [
        "# **Answer:** \n",
        "**Binaural** is the genres that has the highest energy as we see on the barplot"
      ],
      "metadata": {
        "id": "xWCnxPY_KFBS"
      }
    },
    {
      "cell_type": "markdown",
      "source": [
        "# **Q4: What are the most correlated pairs of attributes ? (Mention 2 pairs, with interpretation)**"
      ],
      "metadata": {
        "id": "Y8ng5th-KMXj"
      }
    },
    {
      "cell_type": "code",
      "source": [
        "plt.figure(figsize=(13,13))\n",
        "\n",
        "corr = df.corr()\n",
        "corr\n",
        "\n",
        "sns.heatmap(corr, cmap='crest', annot=True)\n"
      ],
      "metadata": {
        "id": "tKjgpeDeKBLd"
      },
      "execution_count": null,
      "outputs": []
    },
    {
      "cell_type": "markdown",
      "source": [
        "# **Answer**\n",
        "**Energy**  and **acousticness** are the most correlated pairs of attributes as we see in the heat map they have **-0.87** which is highest negative correlation value"
      ],
      "metadata": {
        "id": "KkRKjlhhLYUB"
      }
    },
    {
      "cell_type": "markdown",
      "source": [
        "# **Data Preparation for Modelling**"
      ],
      "metadata": {
        "id": "yNq9mpqULqt3"
      }
    },
    {
      "cell_type": "code",
      "source": [
        "df = df.drop(['genres'], axis =1)"
      ],
      "metadata": {
        "id": "WrtyBnwoMtbB"
      },
      "execution_count": null,
      "outputs": []
    },
    {
      "cell_type": "markdown",
      "source": [
        "**Comment:**\n",
        "because this attribute has alot of values and they are unique so while clustering it will be very difficult\n"
      ],
      "metadata": {
        "id": "Cga7xC5XRheV"
      }
    },
    {
      "cell_type": "markdown",
      "source": [
        "## **Clustering**\n"
      ],
      "metadata": {
        "id": "NPcuiH35Ng1d"
      }
    },
    {
      "cell_type": "code",
      "source": [
        "from sklearn.preprocessing import StandardScaler\n",
        "scaled_data = StandardScaler().fit_transform(df)\n",
        "scaled_data"
      ],
      "metadata": {
        "id": "VAYkGta7M5jV"
      },
      "execution_count": null,
      "outputs": []
    },
    {
      "cell_type": "markdown",
      "source": [
        "**Comment**\n",
        "Normalize all numerical columns in any Clustering Problem"
      ],
      "metadata": {
        "id": "Y2u3FbAVRNmX"
      }
    },
    {
      "cell_type": "code",
      "source": [
        "from sklearn.cluster import KMeans\n",
        "wcss = []\n",
        "for i in range(1, 8):\n",
        "    km = KMeans(n_clusters=i, init='k-means++', max_iter=300, n_init=10, random_state=0)\n",
        "    km.fit(df)\n",
        "    wcss.append(km.inertia_)\n",
        "    \n",
        "plt.plot(range(1, 8), wcss, marker='o', color='red')\n",
        "plt.title('The Elbow Method', fontsize = 20)\n",
        "plt.xlabel('No. of Clusters')\n",
        "plt.ylabel('WCSS')\n",
        "plt.show()\n"
      ],
      "metadata": {
        "id": "C33k5ARRNSgH"
      },
      "execution_count": null,
      "outputs": []
    },
    {
      "cell_type": "code",
      "source": [
        "kmeans = KMeans(n_clusters=4, init='k-means++', max_iter=300, n_init=10, random_state=0)\n",
        "cluster_labels = kmeans.fit_predict(scaled_data)\n",
        "\n",
        "# As it's difficult to visualise clusters when the data is high-dimensional - we'll use\n",
        "# boxplots to help us see how the clusters are grouping the samples\n",
        "\n",
        "df[\"cluster\"] = cluster_labels"
      ],
      "metadata": {
        "id": "6kanBMgSOLc1"
      },
      "execution_count": null,
      "outputs": []
    },
    {
      "cell_type": "markdown",
      "source": [
        "# **Cluster Interpretation**"
      ],
      "metadata": {
        "id": "vjI7inzEOiZV"
      }
    },
    {
      "cell_type": "code",
      "source": [
        "# Minimal code to plot a boxplot of each numerical column\n",
        "# Categorical columns would need to be plotted differently\n",
        "# (e.g. using a countplot)\n",
        "\n",
        "for col in df.select_dtypes('number').columns:\n",
        "    plt.figure()\n",
        "    sns.boxplot(x='cluster', y=col, data=df)"
      ],
      "metadata": {
        "id": "t2fFPj6-OhuF"
      },
      "execution_count": null,
      "outputs": []
    },
    {
      "cell_type": "code",
      "source": [
        "# Since there are many columns in the dataset, pairplot is hard to read\n",
        "# Investigating using boxplots first and then pair/scatter plotting the interesting\n",
        "# columns would be a better approach\n",
        "sns.pairplot(df, hue='cluster', corner=True)\n",
        "plt.xticks(rotation = 90)"
      ],
      "metadata": {
        "id": "WetObsWZO3JF"
      },
      "execution_count": null,
      "outputs": []
    },
    {
      "cell_type": "markdown",
      "source": [
        " Showing how many points belong to each *cluster*\n"
      ],
      "metadata": {
        "id": "wRV8PLauQYo_"
      }
    },
    {
      "cell_type": "code",
      "source": [
        "# Visually plotting how many points belong to each cluster \n",
        "sns.countplot(x='cluster', data=df)"
      ],
      "metadata": {
        "id": "1tm9A4xzO4DQ"
      },
      "execution_count": null,
      "outputs": []
    }
  ],
  "metadata": {
    "colab": {
      "name": "Clustering_Mini-Project.ipynb",
      "provenance": [],
      "include_colab_link": true
    },
    "kernelspec": {
      "display_name": "Python 3.9.13 ('base')",
      "language": "python",
      "name": "python3"
    },
    "language_info": {
      "codemirror_mode": {
        "name": "ipython",
        "version": 3
      },
      "file_extension": ".py",
      "mimetype": "text/x-python",
      "name": "python",
      "nbconvert_exporter": "python",
      "pygments_lexer": "ipython3",
      "version": "3.9.13"
    },
    "vscode": {
      "interpreter": {
        "hash": "806d670c7bb2cbe074590fc196bfaf591c17bcc1c3e5afa2a6f71dcbde559284"
      }
    }
  },
  "nbformat": 4,
  "nbformat_minor": 0
}